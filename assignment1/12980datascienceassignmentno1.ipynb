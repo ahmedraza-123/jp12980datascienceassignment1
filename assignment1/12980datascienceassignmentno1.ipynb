{
 "cells": [
  {
   "cell_type": "code",
   "execution_count": 1,
   "id": "908960b2",
   "metadata": {},
   "outputs": [
    {
     "name": "stdout",
     "output_type": "stream",
     "text": [
      "\tTwinkle, twinkle, little star,\n",
      "\t\t How I wonder what you are!\n",
      "\t\t\t Up above the world so high,\n",
      " \t\t\t like a diamond in the sky.\n",
      " \tTwinkle, twinkle, little star,\n",
      " \t\t How i wonder what you are\n"
     ]
    }
   ],
   "source": [
    "# Q1: Write a Python program to print the following string in a specific format (see the\n",
    "#output).\n",
    "\n",
    "print(\"\\tTwinkle, twinkle, little star,\\n\\t\\t How I wonder what you are!\\n\\t\\t\\t Up above the world so high,\\n \\t\\t\\t like a diamond in the sky.\\n \\tTwinkle, twinkle, little star,\\n \\t\\t How i wonder what you are\")\n",
    "\n",
    "\n"
   ]
  },
  {
   "cell_type": "code",
   "execution_count": 2,
   "id": "d7c9c2e5",
   "metadata": {},
   "outputs": [
    {
     "name": "stdout",
     "output_type": "stream",
     "text": [
      "3.8.8\n"
     ]
    }
   ],
   "source": [
    "# Q2: Write a Python program to get the Python version you are using\n",
    "\n",
    "import platform\n",
    "print(platform.python_version())\n"
   ]
  },
  {
   "cell_type": "code",
   "execution_count": 3,
   "id": "89e733a3",
   "metadata": {},
   "outputs": [
    {
     "name": "stdout",
     "output_type": "stream",
     "text": [
      "23 : 31 : 40\n",
      "11 : 31 : 40\n"
     ]
    }
   ],
   "source": [
    "# Q3: Write a Python program to display the current date and time.\n",
    "# 24 Hour format\n",
    "\n",
    "import time\n",
    "print (time.strftime(\"%H : %M : %S\"));\n",
    "\n",
    "#12 Hour Format\n",
    "\n",
    "import time\n",
    "print (time.strftime(\"%I : %M : %S\"));"
   ]
  },
  {
   "cell_type": "code",
   "execution_count": 4,
   "id": "a4f5aaf4",
   "metadata": {},
   "outputs": [
    {
     "name": "stdout",
     "output_type": "stream",
     "text": [
      "Input Radius of the Circle : 4\n",
      "The Area of Circle with Radius is: 4.0 is: 50.26548245743669\n"
     ]
    }
   ],
   "source": [
    "# Q4: Write a Python program which accepts the radius of a circle from the user and compute\n",
    "#the area.\n",
    "from math import pi\n",
    "Radius = float(input (\"Input Radius of the Circle : \"))\n",
    "print (\"The Area of Circle with Radius is: \" + str(Radius) + \" is: \" + str(pi * Radius**2))\n",
    "\n"
   ]
  },
  {
   "cell_type": "code",
   "execution_count": 5,
   "id": "4cfa4e4c",
   "metadata": {},
   "outputs": [
    {
     "name": "stdout",
     "output_type": "stream",
     "text": [
      "Input First Name : Ahmed\n",
      "Input  Last Name : moon\n",
      "Welcome moon Ahmed\n"
     ]
    }
   ],
   "source": [
    "# Q5: Write a Python program which accepts the user's first and last name and print them in\n",
    "#reverse order with a space between them.\n",
    "\n",
    "\n",
    "firstName = input(\"Input First Name : \")\n",
    "lastName = input(\"Input  Last Name : \")\n",
    "print (\"Welcome \" + lastName + \" \" + firstName)\n",
    "\n",
    "\n"
   ]
  },
  {
   "cell_type": "code",
   "execution_count": 6,
   "id": "e5bfd030",
   "metadata": {},
   "outputs": [
    {
     "name": "stdout",
     "output_type": "stream",
     "text": [
      "Enter First number: 4\n",
      "Enter Second number: 7\n",
      "The sum is 11\n"
     ]
    }
   ],
   "source": [
    "# Q6: Write a python program which takes two inputs from user and print them addition\n",
    "\n",
    "\n",
    "firstNum = input('Enter First number: ')\n",
    "secondNum = input('Enter Second number: ')\n",
    "\n",
    "addition = int(firstNum) + int(secondNum)\n",
    "\n",
    "\n",
    "print('The sum is {2}'.format(secondNum, secondNum, addition))"
   ]
  },
  {
   "cell_type": "code",
   "execution_count": null,
   "id": "2b748782",
   "metadata": {},
   "outputs": [],
   "source": []
  }
 ],
 "metadata": {
  "kernelspec": {
   "display_name": "Python 3",
   "language": "python",
   "name": "python3"
  },
  "language_info": {
   "codemirror_mode": {
    "name": "ipython",
    "version": 3
   },
   "file_extension": ".py",
   "mimetype": "text/x-python",
   "name": "python",
   "nbconvert_exporter": "python",
   "pygments_lexer": "ipython3",
   "version": "3.8.8"
  }
 },
 "nbformat": 4,
 "nbformat_minor": 5
}
